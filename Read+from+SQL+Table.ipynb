# Parameters
server = 'UKBI-DMART-PROD'
DB = 'Support_DMART'

# Create the connection
conn = pyodbc.connect('DRIVER={SQL Server};SERVER=' + server + ';DATABASE=' + DB + ';Trusted_Connection=yes')

# query db
sql = """

SET NOCOUNT ON;
SET TRANSACTION ISOLATION LEVEL READ UNCOMMITTED;
set ansi_warnings off;






SELECT distinct
[Tckt_TicketID]
,[Queue_Sequence]
INTO #ticket  
FROM [Support_DMART].[FACT].[Tckt_Transaction] as t
LEFT JOIN [Support_DMART].[DIM].[Queue] as q on t.[Queue_Key] = q.[Queue_Key]
 
where q.[Queue_ID_NK] in (661, 611)
and [Tckt_Creation_Date] > '2016-06-01 00:00:01.000'


-----------------------------------------------------------------------------------------------------

select 
tt.* 

into #ticket2
from #ticket as t
LEFT JOIN [Support_DMART].[FACT].[Tckt_Transaction] as tt
	on t.Tckt_TicketID = tt.Tckt_TicketID
	and t.Queue_Sequence = tt.Queue_Sequence
LEFT JOIN [Support_DMART].[DIM].[Queue] as q on tt.[Queue_Key] = q.[Queue_Key]

where 
[Activity] = 'message'
and [Queue_Customer_Message_Sequence] = -1
and q.[Queue_ID_NK] in (661, 611)
-----------------------------------------------------------------------------------------------------

--SELECT count([Tckt_TicketID]) from #ticket2

--SELECT top 10000 * from #ticket2

SELECT

 t.[Tckt_TicketID]
,t.[Incident_Key]
,[Tckt_Order]
,[Tckt_Creation_Date]
,datepart(HOUR,[Tckt_Creation_Date]) as [Created_Hour]
,datepart(WEEKDAY,[Tckt_Creation_Date]) as [Created_Day]
,CONVERT(varchar(6),[Tckt_Creation_Date],112) as [Tckt_Creation_TMK]
,CONVERT(varchar(6),[Activity_DateTime],112) as [Tckt_Action_TMK]
,[Activity_DateTime]
,datepart(HOUR,[Activity_DateTime]) as [Activity_Hour]
,datepart(WEEKDAY,[Activity_DateTime]) as [Activity_Day]
,a.[Date_Day_Number]
,a.[Date_Year_Number]
,a.[Date_Day_Of_Week]
--,a.[Date_Business_Day_Number]
--,a.[Date_Week_Year_Number]
--,a.[Date_Week_Month_Number]
--,a.[Date_day_yr]
--,a.[Date_Day_Week]
--,[Activity_Date_SK]
--,[Activity_Time_SK]
,[Activity]
,[Status_Key]
,[Classification_Key]
,[Severity_Key]
,[Difficulty_Key]
,[Priority_Key]
,[Category_Key]
,t.[Queue_Key]
--,q.[Queue_Name]
,CASE WHEN [Queue_ID] = 661
THEN 'Azure'
WHEN  [Queue_ID] = 611
THEN 'Microsoft Private Cloud'
ELSE 'Not Mapped'
END AS [Product_Group]
--,[Assigned_Contact_Key]
--,[Assigned_Employee_Key]
--,[Contact_Key]
,e.Employee_First_Name + E.Employee_Last_Name
--,[Employee_Key]
--,[Comment_Source_Key]
--,[Message_Key]
--,[Comment_Type_Key]
--,[Account_Key]
,b.[Account_Number]
,b.[Account_Name]
,b.[Account_Region]
,b.[Account_Team_Name]
,CASE WHEN b.[Account_Region] in ( 'Africa','APAC','EMEA')
THEN 'INTL'
WHEN b.[Account_Region] in ('LATAM', 'US/CANADA', 'Unknown')
THEN 'US'
ELSE 'Not Mapped'
END AS [Super_Region]
--,[Worked_Unit_Key]
--,[Sub_TCKT_Ticket_Key]
,[Queue_Start_Date]
,[Queue_End_Date]
,[Queue_Action_Start_Date]
,[Queue_Action_End_Date]
,i.[Incident_Subject]
,i.Incident_Reference_Number
,t.[Queue_Sequence]
,[Queue_Action_Sequence]
,[Queue_Customer_Message_Sequence]
,t.[Queue_Racker_Message_Sequence]
,t.[Queue_Racker_Public_Message_Sequence]
,[Message_Sequence]
,[Customer_Message_Sequence]
,[Racker_Message_Sequence]
,[Racker_Public_Message_Sequence]
--,[State_Sequence]
--,[Assigned_Sequence]
,[Activity_Time_Taken]
,[Worked_Duration]
--,[Status_ID]
--,[Classification_ID]
,[Severity_ID]
,CASE WHEN [Severity_ID] = 1
THEN 'Standard'
WHEN [Severity_ID] = 2
THEN 'Urgent'
WHEN [Severity_ID] = 3
THEN 'Emergency'
END AS [Severity_Name]
,[Difficulty_ID]
,[Priority_ID]
,[Category_ID]
,[Queue_ID]
--,[Assigned_Racker_ID]
--,[Racker_ID]
--,[Comment_Source_ID]
--,[Message_ID]
--,[Comment_Type_ID]
--,[Account_ID]
--,[Worked_Unit_ID]
--,[Sub_TCKT_Ticket_ID]
--,t.[DW_Updatetime]
--,t.[Audit_Key]
--,[SRC_Audit_Key]
--,[Activity_DateTime_CST]
,[Queue_Start_Date_CST]
,[Queue_Action_Start_Date_CST]
,[Queue_Action_End_Date_CST]
,[Tckt_Creation_Date_CST]


  FROM #ticket2 as t
  
 -- Left Join [Support_DMART].[FACT].[Tckt_Transaction] as t 
 --on tt.Tckt_TicketID = t.Tckt_TicketID 
 --and t.Queue_Sequence = tt.queue_Sequence
 -- LEFT JOIN [Support_DMART].[DIM].[Queue] as q 
 --on t.[Queue_Key] = q.[Queue_Key] 
  left join [Support_DMART].[DIM].[Date] as a 
 on t.[Activity_Date_SK] = a.Date_KEY
  left join [Support_DMART].[DIM].[Incident] as i 
 on t.Incident_Key = i.Incident_KEY
  left join [Support_DMART].[DIM].[Account] as b 
 on t.[Account_Key] = b.[Account_Key]
  left join [Support_DMART].[DIM].[Employee] as e 
 on t.Employee_Key = e.Employee_Key



"""
df = pandas.io.sql.read_sql(sql, conn)
df.head(5)
